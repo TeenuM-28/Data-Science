{
 "cells": [
  {
   "cell_type": "code",
   "execution_count": null,
   "id": "e95f9763",
   "metadata": {},
   "outputs": [],
   "source": [
    "# To calculate the defined probability density function\n",
    "def get_pdf_probability(dataset,startrange,endrange):\n",
    "    \n",
    "    #import scipy to calculate normal distribution\n",
    "    from scipy.stats import norm\n",
    "    \n",
    "    #sns displot to showing a plot in dataset by using seaborn,kde=kernal density function to plot color in blue and \n",
    "    #histogram as green\n",
    "    ax=sns.distplot(dataset,kde=True,kde_kws={'color':'blue'},color='Green')\n",
    "    \n",
    "    #axv line for vertical lines at the specific points from start range to endrange both are marks in as red, eg.50 to 60\n",
    "    pyplot.axvline(startrange,color='Red')\n",
    "    pyplot.axvline(endrange,color='Red')\n",
    "    \n",
    "    #from the dataset calculating mean and standard deviation\n",
    "    sample=dataset\n",
    "    sample_mean=sample.mean()\n",
    "    sample_std=sample.std()\n",
    "    \n",
    "    #Print the mean and standard deviation and creating normal distribution by mean and standard deviation as dist variable\n",
    "    print('Mean=%.3f,Standard Deviation=%.3f'%(sample_mean,sample_std))\n",
    "    dist=norm(sample_mean,sample_std)\n",
    "    \n",
    "    #creating a lists of values from startrange to endrange,two value in range  are append to the list values\n",
    "    values=[value for value in range(startrange,endrange)]\n",
    "    \n",
    "    #To known the normal distribution of the pdf each value in the list of values\n",
    "    probabilities=[dist.pdf(value) for value in values]\n",
    "    #probalbilities are assigned in prob variable\n",
    "    prob=sum(probabilities)\n",
    "    \n",
    "    #it is calculating area between the two ranges startrange and end range.\n",
    "    print(\"The area between range({},{}):{}\".format(startrange,endrange,sum(probabilities)))\n",
    "    return prob"
   ]
  },
  {
   "cell_type": "code",
   "execution_count": null,
   "id": "173b78ff",
   "metadata": {},
   "outputs": [],
   "source": [
    "#To calculate the defined z-score\n",
    "def stdNBgraph(dataset):\n",
    "    \n",
    "    #it calculates the average in dataset\n",
    "    mean=dataset.mean()\n",
    "    #it calculate standard deviation in dataset\n",
    "    std=dataset.std()\n",
    "    \n",
    "    #from the the dataset converted as list in values\n",
    "    values=[i for i in dataset]\n",
    "    #to find z-score using by formula j=dataset, all dataset values goes in j and derive the answer\n",
    "    z_score=[((j-mean)/std) for j in values]\n",
    "    #to plot the graph using seaborn and see z-score, to show kde curve\n",
    "    sns.distplot(z_score,kde=True)\n",
    "    #to calculate average of z-score\n",
    "    sum(z_score)/len(z_score)\n",
    "    "
   ]
  }
 ],
 "metadata": {
  "kernelspec": {
   "display_name": "Python 3 (ipykernel)",
   "language": "python",
   "name": "python3"
  },
  "language_info": {
   "codemirror_mode": {
    "name": "ipython",
    "version": 3
   },
   "file_extension": ".py",
   "mimetype": "text/x-python",
   "name": "python",
   "nbconvert_exporter": "python",
   "pygments_lexer": "ipython3",
   "version": "3.7.1"
  }
 },
 "nbformat": 4,
 "nbformat_minor": 5
}
